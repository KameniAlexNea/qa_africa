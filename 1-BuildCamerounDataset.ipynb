{
 "cells": [
  {
   "cell_type": "code",
   "execution_count": 1,
   "metadata": {},
   "outputs": [
    {
     "name": "stderr",
     "output_type": "stream",
     "text": [
      "100%|██████████| 847/847 [00:01<00:00, 500.18it/s]\n",
      "100%|██████████| 916/916 [00:02<00:00, 426.03it/s]\n",
      "100%|██████████| 887/887 [00:01<00:00, 481.39it/s]\n",
      "100%|██████████| 1089/1089 [00:02<00:00, 413.49it/s]\n",
      "100%|██████████| 1070/1070 [00:02<00:00, 428.46it/s]\n",
      "100%|██████████| 21/21 [00:00<00:00, 245.75it/s]\n",
      "100%|██████████| 797/797 [00:01<00:00, 423.55it/s]\n",
      "100%|██████████| 915/915 [00:02<00:00, 416.15it/s]\n",
      "100%|██████████| 932/932 [00:01<00:00, 538.82it/s]\n"
     ]
    }
   ],
   "source": [
    "import pymupdf\n",
    "from glob import glob\n",
    "from tqdm import tqdm\n",
    "\n",
    "files = glob(\"histoire_cameroun/*.pdf\")\n",
    "\n",
    "for file in files:\n",
    "\tdoc = pymupdf.open(file)\n",
    "\tout = open(file.replace(\".pdf\", \".txt\"), \"wb\")\n",
    "\tfor page in tqdm(doc, total=len(doc)): # iterate the document pages\n",
    "\t\ttext = page.get_text().encode(\"utf8\") # get plain text (is in UTF-8)\n",
    "\t\tout.write(text) # write text of page\n",
    "\t\tout.write(bytes((12,))) # write page delimiter (form feed 0x0C)\n",
    "\tout.close()"
   ]
  },
  {
   "cell_type": "code",
   "execution_count": 2,
   "metadata": {},
   "outputs": [
    {
     "name": "stderr",
     "output_type": "stream",
     "text": [
      "100%|██████████| 847/847 [00:01<00:00, 468.14it/s]\n",
      "100%|██████████| 916/916 [00:02<00:00, 413.27it/s]\n",
      "100%|██████████| 887/887 [00:01<00:00, 459.06it/s]\n",
      "100%|██████████| 1089/1089 [00:02<00:00, 414.95it/s]\n",
      "100%|██████████| 1070/1070 [00:02<00:00, 405.97it/s]\n",
      "100%|██████████| 21/21 [00:00<00:00, 420.12it/s]\n",
      "100%|██████████| 797/797 [00:01<00:00, 410.11it/s]\n",
      "100%|██████████| 915/915 [00:02<00:00, 407.75it/s]\n",
      "100%|██████████| 932/932 [00:01<00:00, 539.28it/s]\n"
     ]
    }
   ],
   "source": [
    "import pymupdf\n",
    "from glob import glob\n",
    "from tqdm import tqdm\n",
    "import os\n",
    "\n",
    "files = glob(\"histoire_cameroun/*.pdf\")\n",
    "\n",
    "for file in files:\n",
    "\tdoc = pymupdf.open(file)\n",
    "\tfolder = file.replace(\".pdf\", \"\")\n",
    "\tos.makedirs(folder, exist_ok=True)\n",
    "\tout = open(file.replace(\".pdf\", \".txt\"), \"wb\")\n",
    "\tfor i, page in tqdm(enumerate(doc), total=len(doc)): # iterate the document pages\n",
    "\t\tout = open(file.replace(\".pdf\", \"/\" + str(i) + \".txt\"), \"wb\")\n",
    "\t\ttext = page.get_text().encode(\"utf8\") # get plain text (is in UTF-8)\n",
    "\t\tout.write(text) # write text of page\n",
    "\t\t# out.write(bytes((12,))) # write page delimiter (form feed 0x0C)\n",
    "\t\tout.close()"
   ]
  },
  {
   "cell_type": "code",
   "execution_count": 2,
   "metadata": {},
   "outputs": [],
   "source": [
    "import pymupdf\n",
    "from glob import glob\n",
    "from tqdm import tqdm"
   ]
  },
  {
   "cell_type": "code",
   "execution_count": 3,
   "metadata": {},
   "outputs": [
    {
     "data": {
      "text/plain": [
       "7474"
      ]
     },
     "execution_count": 3,
     "metadata": {},
     "output_type": "execute_result"
    }
   ],
   "source": [
    "files = glob(\"histoire_cameroun/*/*.txt\")\n",
    "\n",
    "len(files)"
   ]
  },
  {
   "cell_type": "code",
   "execution_count": 4,
   "metadata": {},
   "outputs": [
    {
     "data": {
      "text/plain": [
       "7474"
      ]
     },
     "execution_count": 4,
     "metadata": {},
     "output_type": "execute_result"
    }
   ],
   "source": [
    "data = [\n",
    "    open(file).read() for file in files\n",
    "]\n",
    "\n",
    "len(data)"
   ]
  },
  {
   "cell_type": "code",
   "execution_count": 5,
   "metadata": {},
   "outputs": [],
   "source": [
    "def is_valid_file(raw: str):\n",
    "    lines = [i for i in raw.split(\"\\n\") if i.strip()]\n",
    "    count = [i for i in lines if \"........................\" in i]\n",
    "    return len(lines) > 5 and len(count) < 5"
   ]
  },
  {
   "cell_type": "code",
   "execution_count": 6,
   "metadata": {},
   "outputs": [
    {
     "data": {
      "text/plain": [
       "6802"
      ]
     },
     "execution_count": 6,
     "metadata": {},
     "output_type": "execute_result"
    }
   ],
   "source": [
    "data = [\n",
    "    i for i in data if is_valid_file(i)\n",
    "]\n",
    "\n",
    "len(data)"
   ]
  },
  {
   "cell_type": "code",
   "execution_count": 9,
   "metadata": {},
   "outputs": [
    {
     "name": "stdout",
     "output_type": "stream",
     "text": [
      "610\n",
      "L’AFRIQUE DU VIIe AU XIe SIÈCLE\n",
      "une eminence rocheuse, au milieu d’une vallée. Selon C. Lepage, qui lui \n",
      "a consacré une étude très détaillée, elle est la « version rupestre d’un type \n",
      "de petite basilique de caractère axumite très marqué », qui note également \n",
      "qu’il y a lieu de la comparer, dans sa forme, avec l’église construite de \n",
      " Debre-Damo38.\n",
      "Il est certain que la parenté axumite est ce qui retient d’emblée l’at-\n",
      "tention en présence d’un monument de ce type. Il y a d’abord le voisinage \n",
      "géographique et l’existence même de vestiges axumites, puis dans l’ordre \n",
      "architectural plusieurs traits incitent à reconnaître des points communs avec \n",
      "la tradition axumite : l’exiguité des proportions, le plan basilical caractéris-\n",
      "tique des petites églises des VIe et VIIe siècles observées à  Enda-Tcherqos \n",
      "près d’ Axum, à  Matara, à  Tokonda et à  Kohayto, ainsi que les plafonds \n",
      "horizontaux, les piliers et les chapiteaux. Ces particularités conduisent à \n",
      "attribuer à un monument tel que celui de Berakit une date proche de la \n",
      "période axumite.\n",
      "L’art ornemental\n",
      "Dans plusieurs édiﬁces anciens et notamment dans ceux dont il a été fait \n",
      "état dans ce chapitre, une ornementation sculptée était appliquée principa-\n",
      "lement au plafond, sur les chapiteaux et les arcs.\n",
      "Dans l’église de Debre-Damo, des panneaux sculptés ornent encore \n",
      "aujourd’hui les caissons de bois, au plafond du vestibule. Ils représentent \n",
      "surtout des animaux : lions, antilopes, zébus, serpents, chameaux, éléphants, \n",
      "bufﬂes, chèvres, ânes, girafes, léopards, ainsi que des animaux fantastiques, \n",
      "des motifs végétaux et géométriques. Le goût du décor se manifeste éga-\n",
      "lement sur les chapiteaux. La croix en est souvent le motif central entouré \n",
      "d’entrelacs et de palmettes. Les artistes de la haute époque connaissaient \n",
      "le répertoire de l’ornementation en usage dans les pays méditerranéens, \n",
      "notamment l’Égypte copte. Dans les églises de  Zarema, de Debre-Damo \n",
      "et d’ Agowo, des frises à encadrement carré, identique à celui des fenêtres, \n",
      "constituent un décor architectural, sculpté dans la pierre. L’église de  Zarema-\n",
      "Ghiorghis est parmi les plus ornementées des anciens monuments du nord \n",
      "de l’ Éthiopie.\n",
      "Ces églises, dans leur état actuel, ne conservent pas de peintures mura-\n",
      "les. La question se pose de savoir si, dans l’Antiquité, des peintures ornaient \n",
      "les murs, comme ce sera le cas pour des monuments d’époque ultérieure \n",
      "—  Beta-Maryam à  Lalibela, par exemple. On n’en voit pas trace sur les murs \n",
      "des plus anciennes églises aujourd’hui connues. Il semble que l’exiguïté des \n",
      "parois ne laissait que peu d’espace pour un décor peint. Il n’est cependant \n",
      "pas impossible qu’il en ait existé. On possède le témoignage, rapporté par \n",
      " al-Ṭabarī, d’une femme de l’entourage de  Muḥammad, à Axum, au VIIe \n",
      "siècle, qui de retour à  Médine se souvenait avec admiration des « merveilles \n",
      "peintes sur les murs » de la cathédrale. Mais aucun document ni même aucun \n",
      "vestige ne subsiste de la haute époque.\n",
      "38. C. Lepage, 1972.\n",
      "\n"
     ]
    }
   ],
   "source": [
    "import random\n",
    "\n",
    "print(random.sample(data, k=1)[0])"
   ]
  },
  {
   "cell_type": "code",
   "execution_count": null,
   "metadata": {},
   "outputs": [],
   "source": []
  }
 ],
 "metadata": {
  "kernelspec": {
   "display_name": ".venv",
   "language": "python",
   "name": "python3"
  },
  "language_info": {
   "codemirror_mode": {
    "name": "ipython",
    "version": 3
   },
   "file_extension": ".py",
   "mimetype": "text/x-python",
   "name": "python",
   "nbconvert_exporter": "python",
   "pygments_lexer": "ipython3",
   "version": "3.9.18"
  }
 },
 "nbformat": 4,
 "nbformat_minor": 2
}
